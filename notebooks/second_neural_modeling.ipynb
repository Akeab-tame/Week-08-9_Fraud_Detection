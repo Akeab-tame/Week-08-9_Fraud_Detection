{
 "cells": [
  {
   "cell_type": "code",
   "execution_count": 1,
   "metadata": {},
   "outputs": [],
   "source": [
    "import pandas as pd\n",
    "import numpy as np\n",
    "from sklearn.model_selection import train_test_split\n",
    "from sklearn.preprocessing import StandardScaler, OneHotEncoder\n",
    "from sklearn.compose import ColumnTransformer\n",
    "from sklearn.pipeline import Pipeline\n",
    "from sklearn.impute import SimpleImputer\n",
    "from sklearn.metrics import accuracy_score, precision_score, recall_score, f1_score, roc_auc_score\n",
    "import tensorflow as tf\n",
    "from tensorflow.keras.models import Sequential\n",
    "from tensorflow.keras.layers import Dense, Conv1D, MaxPooling1D, Flatten, LSTM, GRU, Dropout\n",
    "import mlflow\n",
    "import mlflow.tensorflow"
   ]
  },
  {
   "cell_type": "code",
   "execution_count": 2,
   "metadata": {},
   "outputs": [],
   "source": [
    "# Load preprocessed data\n",
    "pre_credit_data = pd.read_csv('../data/preprocessed_creditcard_data.csv')\n",
    "pre_fraud_data_df = pd.read_csv('../data/preprocessed_fraud_data.csv')"
   ]
  },
  {
   "cell_type": "code",
   "execution_count": 3,
   "metadata": {},
   "outputs": [],
   "source": [
    "#Define functions for model building and evaluation\n",
    "\n",
    "def build_cnn_model(input_shape):\n",
    "    model = Sequential()\n",
    "    model.add(Conv1D(filters=32, kernel_size=3, activation='relu', input_shape=input_shape))\n",
    "    model.add(MaxPooling1D(pool_size=2))\n",
    "    model.add(Flatten())\n",
    "    model.add(Dense(1, activation='sigmoid'))\n",
    "    return model"
   ]
  },
  {
   "cell_type": "code",
   "execution_count": 4,
   "metadata": {},
   "outputs": [],
   "source": [
    "def build_rnn_model(input_shape):\n",
    "    model = Sequential()\n",
    "    model.add(GRU(units=64, return_sequences=True, input_shape=input_shape))\n",
    "    model.add(GRU(units=32))\n",
    "    model.add(Dense(1, activation='sigmoid'))\n",
    "    return model"
   ]
  },
  {
   "cell_type": "code",
   "execution_count": 5,
   "metadata": {},
   "outputs": [],
   "source": [
    "def build_lstm_model(input_shape):\n",
    "    model = Sequential()\n",
    "    model.add(LSTM(units=64, return_sequences=True, input_shape=input_shape))\n",
    "    model.add(LSTM(units=32))\n",
    "    model.add(Dense(1, activation='sigmoid'))\n",
    "    return model"
   ]
  },
  {
   "cell_type": "code",
   "execution_count": 6,
   "metadata": {},
   "outputs": [],
   "source": [
    "def train_and_evaluate_model(model, X_train, y_train, X_test, y_test, model_name, experiment_name):\n",
    "    # MLflow tracking\n",
    "    mlflow.set_tracking_uri('http://localhost:5000')  # Set your MLflow tracking server\n",
    "    mlflow.set_experiment(experiment_name)\n",
    "    with mlflow.start_run():\n",
    "        mlflow.log_param('model', model_name)\n",
    "\n",
    "        # Compile the model\n",
    "        model.compile(optimizer='adam', loss='binary_crossentropy', metrics=['accuracy'])\n",
    "\n",
    "        # Train the model\n",
    "        history = model.fit(X_train, y_train, epochs=5, batch_size=32, validation_data=(X_test, y_test))\n",
    "\n",
    "        # Evaluate the model\n",
    "        y_pred = model.predict(X_test)\n",
    "        y_pred_binary = (y_pred > 0.5).astype(int)\n",
    "\n",
    "        accuracy = accuracy_score(y_test, y_pred_binary)\n",
    "        precision = precision_score(y_test, y_pred_binary)\n",
    "        recall = recall_score(y_test, y_pred_binary)\n",
    "        f1 = f1_score(y_test, y_pred_binary)\n",
    "        roc_auc = roc_auc_score(y_test, y_pred)\n",
    "\n",
    "        # Log metrics to MLflow\n",
    "        mlflow.log_metric('accuracy', accuracy)\n",
    "        mlflow.log_metric('precision', precision)\n",
    "        mlflow.log_metric('recall', recall)\n",
    "        mlflow.log_metric('f1_score', f1)\n",
    "        mlflow.log_metric('roc_auc', roc_auc)\n",
    "\n",
    "        # Log model to MLflow\n",
    "        mlflow.tensorflow.log_model(model, artifact_path='model')\n",
    "\n",
    "        print(f'Model: {model_name}')\n",
    "        print(f'Accuracy: {accuracy:.4f}')\n",
    "        print(f'Precision: {precision:.4f}')\n",
    "        print(f'Recall: {recall:.4f}')\n",
    "        print(f'F1 Score: {f1:.4f}')\n",
    "        print(f'ROC AUC: {roc_auc:.4f}')"
   ]
  },
  {
   "cell_type": "code",
   "execution_count": 7,
   "metadata": {},
   "outputs": [],
   "source": [
    "# Data Preparation\n",
    "\n",
    "# Credit Card Data\n",
    "X_credit = pre_credit_data.drop('Class', axis=1)\n",
    "y_credit = pre_credit_data['Class']\n",
    "X_credit_train, X_credit_test, y_credit_train, y_credit_test = train_test_split(X_credit, y_credit, test_size=0.2, random_state=42)"
   ]
  },
  {
   "cell_type": "code",
   "execution_count": 10,
   "metadata": {},
   "outputs": [
    {
     "name": "stdout",
     "output_type": "stream",
     "text": [
      "Credit Card Data - LSTM\n"
     ]
    }
   ],
   "source": [
    "print(\"Credit Card Data - LSTM\")"
   ]
  },
  {
   "cell_type": "code",
   "execution_count": 9,
   "metadata": {},
   "outputs": [
    {
     "name": "stderr",
     "output_type": "stream",
     "text": [
      "2024/10/22 02:53:20 INFO mlflow.tracking.fluent: Experiment with name 'Credit Card Fraud Detection' does not exist. Creating a new experiment.\n"
     ]
    },
    {
     "name": "stdout",
     "output_type": "stream",
     "text": [
      "Epoch 1/5\n",
      "\u001b[1m7094/7094\u001b[0m \u001b[32m━━━━━━━━━━━━━━━━━━━━\u001b[0m\u001b[37m\u001b[0m \u001b[1m47s\u001b[0m 6ms/step - accuracy: 0.9969 - loss: 0.0318 - val_accuracy: 0.9984 - val_loss: 0.0119\n",
      "Epoch 2/5\n",
      "\u001b[1m7094/7094\u001b[0m \u001b[32m━━━━━━━━━━━━━━━━━━━━\u001b[0m\u001b[37m\u001b[0m \u001b[1m39s\u001b[0m 6ms/step - accuracy: 0.9982 - loss: 0.0133 - val_accuracy: 0.9984 - val_loss: 0.0118\n",
      "Epoch 3/5\n",
      "\u001b[1m7094/7094\u001b[0m \u001b[32m━━━━━━━━━━━━━━━━━━━━\u001b[0m\u001b[37m\u001b[0m \u001b[1m39s\u001b[0m 5ms/step - accuracy: 0.9983 - loss: 0.0123 - val_accuracy: 0.9984 - val_loss: 0.0118\n",
      "Epoch 4/5\n",
      "\u001b[1m7094/7094\u001b[0m \u001b[32m━━━━━━━━━━━━━━━━━━━━\u001b[0m\u001b[37m\u001b[0m \u001b[1m39s\u001b[0m 6ms/step - accuracy: 0.9983 - loss: 0.0125 - val_accuracy: 0.9984 - val_loss: 0.0119\n",
      "Epoch 5/5\n",
      "\u001b[1m7094/7094\u001b[0m \u001b[32m━━━━━━━━━━━━━━━━━━━━\u001b[0m\u001b[37m\u001b[0m \u001b[1m39s\u001b[0m 6ms/step - accuracy: 0.9983 - loss: 0.0127 - val_accuracy: 0.9984 - val_loss: 0.0119\n",
      "\u001b[1m1774/1774\u001b[0m \u001b[32m━━━━━━━━━━━━━━━━━━━━\u001b[0m\u001b[37m\u001b[0m \u001b[1m7s\u001b[0m 4ms/step\n"
     ]
    },
    {
     "name": "stderr",
     "output_type": "stream",
     "text": [
      "c:\\Users\\Hello\\Desktop\\Html Tutorial\\Document\\KAIM Courses\\Week-08-9_Adey_Innovations\\venv\\Lib\\site-packages\\sklearn\\metrics\\_classification.py:1531: UndefinedMetricWarning: Precision is ill-defined and being set to 0.0 due to no predicted samples. Use `zero_division` parameter to control this behavior.\n",
      "  _warn_prf(average, modifier, f\"{metric.capitalize()} is\", len(result))\n",
      "2024/10/22 02:56:56 WARNING mlflow.tensorflow: You are saving a TensorFlow Core model or Keras model without a signature. Inference with mlflow.pyfunc.spark_udf() will not work unless the model's pyfunc representation accepts pandas DataFrames as inference inputs.\n",
      "2024/10/22 02:57:16 WARNING mlflow.models.model: Model logged without a signature and input example. Please set `input_example` parameter when logging the model to auto infer the model signature.\n",
      "2024/10/22 02:57:17 INFO mlflow.tracking._tracking_service.client: 🏃 View run sneaky-carp-108 at: http://localhost:5000/#/experiments/393830309254537149/runs/a5d73960e3cc445ebf7a1ecdf65f3416.\n",
      "2024/10/22 02:57:17 INFO mlflow.tracking._tracking_service.client: 🧪 View experiment at: http://localhost:5000/#/experiments/393830309254537149.\n"
     ]
    },
    {
     "name": "stdout",
     "output_type": "stream",
     "text": [
      "Model: LSTM\n",
      "Accuracy: 0.9984\n",
      "Precision: 0.0000\n",
      "Recall: 0.0000\n",
      "F1 Score: 0.0000\n",
      "ROC AUC: 0.4995\n"
     ]
    }
   ],
   "source": [
    "# Assuming X_credit_train and X_credit_test are 2D, reshape to 3D\n",
    "X_credit_train = np.reshape(X_credit_train, (X_credit_train.shape[0], 1, X_credit_train.shape[1]))\n",
    "X_credit_test = np.reshape(X_credit_test, (X_credit_test.shape[0], 1, X_credit_test.shape[1]))\n",
    "\n",
    "# Build and train the LSTM model\n",
    "lstm_model_credit = build_lstm_model(X_credit_train.shape[1:])\n",
    "train_and_evaluate_model(lstm_model_credit, X_credit_train, y_credit_train, X_credit_test, y_credit_test, 'LSTM', 'Credit Card Fraud Detection')"
   ]
  },
  {
   "cell_type": "code",
   "execution_count": 11,
   "metadata": {},
   "outputs": [
    {
     "name": "stdout",
     "output_type": "stream",
     "text": [
      "Credit Card Data - RNN\n"
     ]
    },
    {
     "name": "stderr",
     "output_type": "stream",
     "text": [
      "c:\\Users\\Hello\\Desktop\\Html Tutorial\\Document\\KAIM Courses\\Week-08-9_Adey_Innovations\\venv\\Lib\\site-packages\\keras\\src\\layers\\rnn\\rnn.py:204: UserWarning: Do not pass an `input_shape`/`input_dim` argument to a layer. When using Sequential models, prefer using an `Input(shape)` object as the first layer in the model instead.\n",
      "  super().__init__(**kwargs)\n"
     ]
    },
    {
     "name": "stdout",
     "output_type": "stream",
     "text": [
      "Epoch 1/5\n",
      "\u001b[1m7094/7094\u001b[0m \u001b[32m━━━━━━━━━━━━━━━━━━━━\u001b[0m\u001b[37m\u001b[0m \u001b[1m57s\u001b[0m 7ms/step - accuracy: 0.9971 - loss: 0.0195 - val_accuracy: 0.9984 - val_loss: 0.0118\n",
      "Epoch 2/5\n",
      "\u001b[1m7094/7094\u001b[0m \u001b[32m━━━━━━━━━━━━━━━━━━━━\u001b[0m\u001b[37m\u001b[0m \u001b[1m47s\u001b[0m 7ms/step - accuracy: 0.9982 - loss: 0.0135 - val_accuracy: 0.9984 - val_loss: 0.0120\n",
      "Epoch 3/5\n",
      "\u001b[1m7094/7094\u001b[0m \u001b[32m━━━━━━━━━━━━━━━━━━━━\u001b[0m\u001b[37m\u001b[0m \u001b[1m44s\u001b[0m 6ms/step - accuracy: 0.9982 - loss: 0.0130 - val_accuracy: 0.9984 - val_loss: 0.0119\n",
      "Epoch 4/5\n",
      "\u001b[1m7094/7094\u001b[0m \u001b[32m━━━━━━━━━━━━━━━━━━━━\u001b[0m\u001b[37m\u001b[0m \u001b[1m43s\u001b[0m 6ms/step - accuracy: 0.9983 - loss: 0.0126 - val_accuracy: 0.9984 - val_loss: 0.0118\n",
      "Epoch 5/5\n",
      "\u001b[1m7094/7094\u001b[0m \u001b[32m━━━━━━━━━━━━━━━━━━━━\u001b[0m\u001b[37m\u001b[0m \u001b[1m54s\u001b[0m 8ms/step - accuracy: 0.9983 - loss: 0.0128 - val_accuracy: 0.9984 - val_loss: 0.0118\n",
      "\u001b[1m1774/1774\u001b[0m \u001b[32m━━━━━━━━━━━━━━━━━━━━\u001b[0m\u001b[37m\u001b[0m \u001b[1m9s\u001b[0m 4ms/step\n"
     ]
    },
    {
     "name": "stderr",
     "output_type": "stream",
     "text": [
      "c:\\Users\\Hello\\Desktop\\Html Tutorial\\Document\\KAIM Courses\\Week-08-9_Adey_Innovations\\venv\\Lib\\site-packages\\sklearn\\metrics\\_classification.py:1531: UndefinedMetricWarning: Precision is ill-defined and being set to 0.0 due to no predicted samples. Use `zero_division` parameter to control this behavior.\n",
      "  _warn_prf(average, modifier, f\"{metric.capitalize()} is\", len(result))\n",
      "2024/10/22 03:02:24 WARNING mlflow.tensorflow: You are saving a TensorFlow Core model or Keras model without a signature. Inference with mlflow.pyfunc.spark_udf() will not work unless the model's pyfunc representation accepts pandas DataFrames as inference inputs.\n",
      "2024/10/22 03:02:40 WARNING mlflow.models.model: Model logged without a signature and input example. Please set `input_example` parameter when logging the model to auto infer the model signature.\n",
      "2024/10/22 03:02:41 INFO mlflow.tracking._tracking_service.client: 🏃 View run respected-grub-505 at: http://localhost:5000/#/experiments/393830309254537149/runs/e3afd85ebece49028d39d492485bd42b.\n",
      "2024/10/22 03:02:41 INFO mlflow.tracking._tracking_service.client: 🧪 View experiment at: http://localhost:5000/#/experiments/393830309254537149.\n"
     ]
    },
    {
     "name": "stdout",
     "output_type": "stream",
     "text": [
      "Model: RNN\n",
      "Accuracy: 0.9984\n",
      "Precision: 0.0000\n",
      "Recall: 0.0000\n",
      "F1 Score: 0.0000\n",
      "ROC AUC: 0.5003\n"
     ]
    }
   ],
   "source": [
    "print(\"Credit Card Data - RNN\")\n",
    "rnn_model_credit = build_rnn_model(X_credit_train.shape[1:])\n",
    "train_and_evaluate_model(rnn_model_credit, X_credit_train, y_credit_train, X_credit_test, y_credit_test, 'RNN', 'Credit Card Fraud Detection')"
   ]
  },
  {
   "cell_type": "code",
   "execution_count": 15,
   "metadata": {},
   "outputs": [],
   "source": [
    "def build_cnn_model(input_shape):\n",
    "    model = Sequential()\n",
    "    model.add(Conv1D(filters=32, kernel_size=1, activation='relu', input_shape=input_shape))\n",
    "    model.add(MaxPooling1D(pool_size=1))  # Adjust pool size to match input timestep\n",
    "    model.add(Flatten())\n",
    "    model.add(Dense(1, activation='sigmoid'))\n",
    "    model.compile(optimizer='adam', loss='binary_crossentropy', metrics=['accuracy'])\n",
    "    return model\n"
   ]
  },
  {
   "cell_type": "code",
   "execution_count": 16,
   "metadata": {},
   "outputs": [
    {
     "name": "stdout",
     "output_type": "stream",
     "text": [
      "Credit Card Data - CNN\n",
      "Epoch 1/5\n",
      "\u001b[1m7094/7094\u001b[0m \u001b[32m━━━━━━━━━━━━━━━━━━━━\u001b[0m\u001b[37m\u001b[0m \u001b[1m38s\u001b[0m 5ms/step - accuracy: 0.9961 - loss: 10.0486 - val_accuracy: 0.9983 - val_loss: 11.9084\n",
      "Epoch 2/5\n",
      "\u001b[1m7094/7094\u001b[0m \u001b[32m━━━━━━━━━━━━━━━━━━━━\u001b[0m\u001b[37m\u001b[0m \u001b[1m32s\u001b[0m 4ms/step - accuracy: 0.9964 - loss: 7.2604 - val_accuracy: 0.9983 - val_loss: 13.9744\n",
      "Epoch 3/5\n",
      "\u001b[1m7094/7094\u001b[0m \u001b[32m━━━━━━━━━━━━━━━━━━━━\u001b[0m\u001b[37m\u001b[0m \u001b[1m32s\u001b[0m 5ms/step - accuracy: 0.9965 - loss: 7.2621 - val_accuracy: 0.9983 - val_loss: 12.9085\n",
      "Epoch 4/5\n",
      "\u001b[1m7094/7094\u001b[0m \u001b[32m━━━━━━━━━━━━━━━━━━━━\u001b[0m\u001b[37m\u001b[0m \u001b[1m35s\u001b[0m 5ms/step - accuracy: 0.9967 - loss: 5.4645 - val_accuracy: 0.9984 - val_loss: 11.9979\n",
      "Epoch 5/5\n",
      "\u001b[1m7094/7094\u001b[0m \u001b[32m━━━━━━━━━━━━━━━━━━━━\u001b[0m\u001b[37m\u001b[0m \u001b[1m32s\u001b[0m 5ms/step - accuracy: 0.9968 - loss: 4.4849 - val_accuracy: 0.9982 - val_loss: 2.1769\n",
      "\u001b[1m1774/1774\u001b[0m \u001b[32m━━━━━━━━━━━━━━━━━━━━\u001b[0m\u001b[37m\u001b[0m \u001b[1m5s\u001b[0m 3ms/step\n"
     ]
    },
    {
     "name": "stderr",
     "output_type": "stream",
     "text": [
      "2024/10/22 03:14:44 WARNING mlflow.tensorflow: You are saving a TensorFlow Core model or Keras model without a signature. Inference with mlflow.pyfunc.spark_udf() will not work unless the model's pyfunc representation accepts pandas DataFrames as inference inputs.\n",
      "2024/10/22 03:15:04 WARNING mlflow.models.model: Model logged without a signature and input example. Please set `input_example` parameter when logging the model to auto infer the model signature.\n",
      "2024/10/22 03:15:04 INFO mlflow.tracking._tracking_service.client: 🏃 View run adventurous-lark-47 at: http://localhost:5000/#/experiments/393830309254537149/runs/f09c9cd28e7b494c9560c2415a8f22fe.\n",
      "2024/10/22 03:15:04 INFO mlflow.tracking._tracking_service.client: 🧪 View experiment at: http://localhost:5000/#/experiments/393830309254537149.\n"
     ]
    },
    {
     "name": "stdout",
     "output_type": "stream",
     "text": [
      "Model: CNN\n",
      "Accuracy: 0.9982\n",
      "Precision: 0.3409\n",
      "Recall: 0.1667\n",
      "F1 Score: 0.2239\n",
      "ROC AUC: 0.5778\n"
     ]
    }
   ],
   "source": [
    "# Credit Card Data\n",
    "print(\"Credit Card Data - CNN\")\n",
    "cnn_model_credit = build_cnn_model(X_credit_train.shape[1:])\n",
    "train_and_evaluate_model(cnn_model_credit, X_credit_train, y_credit_train, X_credit_test, y_credit_test, 'CNN', 'Credit Card Fraud Detection')"
   ]
  }
 ],
 "metadata": {
  "kernelspec": {
   "display_name": "venv",
   "language": "python",
   "name": "python3"
  },
  "language_info": {
   "codemirror_mode": {
    "name": "ipython",
    "version": 3
   },
   "file_extension": ".py",
   "mimetype": "text/x-python",
   "name": "python",
   "nbconvert_exporter": "python",
   "pygments_lexer": "ipython3",
   "version": "3.12.7"
  }
 },
 "nbformat": 4,
 "nbformat_minor": 2
}
